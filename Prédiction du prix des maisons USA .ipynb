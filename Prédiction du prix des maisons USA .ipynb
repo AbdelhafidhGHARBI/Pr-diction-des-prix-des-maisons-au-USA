{
 "cells": [
  {
   "cell_type": "markdown",
   "id": "ef98309c-4017-4f80-8186-1ca95701c36e",
   "metadata": {},
   "source": [
    "### Prédiction du prix des maisons en USA \n"
   ]
  },
  {
   "cell_type": "markdown",
   "id": "8ff13e67-4ba6-4614-bcd1-0c4d90540c9d",
   "metadata": {},
   "source": [
    "#### Business Objective "
   ]
  },
  {
   "cell_type": "markdown",
   "id": "2480ea5e-cd32-42c4-853f-58553481e210",
   "metadata": {},
   "source": [
    "- Maximiser les profits des investisseurs, Réduire les risques des propriétés sous-évaluées et Optimiser les décisions d'achat et de vente.\n",
    "- Identifier les états \"STATE\" les plus rentables pour les investissements immobiliers."
   ]
  },
  {
   "cell_type": "markdown",
   "id": "749c0003-120c-4ab0-9f77-173196e79f73",
   "metadata": {},
   "source": [
    "#### Data Science Objective"
   ]
  },
  {
   "cell_type": "markdown",
   "id": "33581103-a531-4904-a26b-97e84157763f",
   "metadata": {},
   "source": [
    "#### 1.\tMaximiser les profits des investisseurs, Réduire les risques en identifiant les propriétés sous-évaluées et optimiser les décisions d'achat et de vente.\n",
    "Prédire les cadres de prise de décision, Regression techniques des anomalies et détection algorithmiques pour optimiser l'achat et la vente"
   ]
  },
  {
   "cell_type": "markdown",
   "id": "028e4324-e0ac-4779-a14c-03b3b8cd8bf3",
   "metadata": {},
   "source": [
    "#### 2.\tIdentifier les états \"STATE\" les plus rentables pour les investissements immobiliers.\n",
    "Classfication par état \"STATE\""
   ]
  },
  {
   "cell_type": "markdown",
   "id": "89e5f927-b926-45b0-ae70-3cd8af606dd5",
   "metadata": {},
   "source": [
    "### Description data"
   ]
  },
  {
   "cell_type": "markdown",
   "id": "8378d633-19f0-4c9e-86f3-1dd942e1ffa5",
   "metadata": {},
   "source": [
    "#### Les importations"
   ]
  },
  {
   "cell_type": "code",
   "execution_count": null,
   "id": "84c7ca3b-cfd1-4406-bfc1-51d4d7001498",
   "metadata": {},
   "outputs": [],
   "source": [
    "import pandas as pd  # Manipuler les données de type DataFrame\n",
    "import numpy as np  # Manipuler les tableaux\n",
    "import matplotlib.pyplot as plt  # Faire des graphiques\n",
    "import seaborn as sns  # Manipuler les visualisations\n",
    "from sklearn.model_selection import train_test_split  # Diviser les données\n",
    "from sklearn.linear_model import LinearRegression  # Modèle de régression linéaire\n",
    "from sklearn import metrics  # Évaluation des métriques\n",
    "import os\n",
    "from sklearn.metrics import confusion_matrix, ConfusionMatrixDisplay\n",
    "import statsmodels.api as sm  # Import statsmodels\n",
    "import flask, sklearn, pandas\n",
    "\n",
    "from sklearn.tree import DecisionTreeRegressor, DecisionTreeClassifier\n",
    "from sklearn.metrics import confusion_matrix, classification_report, accuracy_score\n",
    "from sklearn.metrics import mean_squared_error, r2_score\n",
    "from imblearn.over_sampling import SMOTE\n",
    "\n",
    "from sklearn.neighbors import KNeighborsClassifier\n",
    "from sklearn.metrics import confusion_matrix, classification_report\n",
    "import seaborn as sns\n",
    "import matplotlib.pyplot as plt\n",
    "\n",
    "from sklearn.model_selection import train_test_split\n",
    "from sklearn.neighbors import KNeighborsRegressor\n",
    "from sklearn.metrics import mean_absolute_error, mean_squared_error, r2_score\n",
    "from sklearn.ensemble import RandomForestClassifier\n",
    "from sklearn.metrics import confusion_matrix, ConfusionMatrixDisplay\n",
    "import statsmodels.api as sm\n",
    "\n",
    "import re\n",
    "from sklearn.ensemble import RandomForestClassifier\n",
    "from sklearn.metrics import classification_report, accuracy_score\n",
    "\n",
    "from sklearn.metrics import classification_report, accuracy_score, confusion_matrix, ConfusionMatrixDisplay, roc_auc_score\n",
    "from sklearn.preprocessing import label_binarize\n",
    "from sklearn.ensemble import RandomForestClassifier  # Exemple avec un modèle de forêt aléatoire\n",
    "\n",
    "from sklearn.model_selection import train_test_split, GridSearchCV\n",
    "from sklearn.svm import SVC\n",
    "\n",
    "from sklearn import svm\n",
    "from sklearn.metrics import classification_report, roc_auc_score, confusion_matrix, ConfusionMatrixDisplay\n",
    "import matplotlib.pyplot as plt  # Assurez-vous d'importer matplotlib pour l'affichage"
   ]
  },
  {
   "cell_type": "markdown",
   "id": "2af07c03-0fa3-48f7-8b5a-76d727259412",
   "metadata": {},
   "source": [
    "### Récuperation des données"
   ]
  },
  {
   "cell_type": "code",
   "execution_count": null,
   "id": "82923301-aee7-4559-a18f-c43c4af192dc",
   "metadata": {},
   "outputs": [],
   "source": [
    "# Charger les données\n",
    "data = pd.read_csv('USA_Housing.csv', sep=';', header=0)"
   ]
  },
  {
   "cell_type": "code",
   "execution_count": null,
   "id": "966478f0-7f4d-45b9-940f-bcfe779d4782",
   "metadata": {},
   "outputs": [],
   "source": [
    "# Chemin du fichier\n",
    "import os\n",
    "print(os.getcwd())"
   ]
  },
  {
   "cell_type": "code",
   "execution_count": null,
   "id": "ece34b1e-1b9d-436b-931d-1ab83083264f",
   "metadata": {},
   "outputs": [],
   "source": [
    "# Afficher le nbr de colonne et de ligne\n",
    "print(data.shape)   #data.shape()"
   ]
  },
  {
   "cell_type": "code",
   "execution_count": null,
   "id": "f5cea665-0f06-4e8e-bee4-8a6dbe0e44bf",
   "metadata": {},
   "outputs": [],
   "source": [
    "# Description de la data\n",
    "data.describe()     #print(data.describe)   "
   ]
  },
  {
   "cell_type": "markdown",
   "id": "5541e4de-a4e0-4c7d-8e86-c7c5061f7266",
   "metadata": {},
   "source": [
    "•\tRevenu moyen de la zone : Le revenu moyen est d'environ 68 583 $ avec un écart-type de 10 658 $. Le revenu minimum est de 17 796 $ et le maximum de 107 701 $.\n",
    "•\tÂge moyen des maisons : L'âge des maisons varie de 2,6 à 9,5 ans avec une moyenne d'environ 6 ans.\n",
    "•\tNombre moyen de pièces : Les maisons comptent entre 3,2 et 10,7 pièces, avec une moyenne de 6,99 pièces.\n",
    "•\tNombre moyen de chambres : Le nombre moyen de chambres est d'environ 4, avec une variation allant de 2 à 6,5 chambres.\n",
    "•\tPopulation de la zone : La population varie considérablement, allant de 173 personnes à plus de 69 000, avec une moyenne d'environ 36 163 personnes.\n",
    "•\tPrix : Les prix des maisons varient de 15 939 $ à 2,47 millions $, avec un prix moyen d'environ 1,23 million $"
   ]
  },
  {
   "cell_type": "code",
   "execution_count": null,
   "id": "f8b1bc0f-a85c-4717-b877-7d47daed758e",
   "metadata": {},
   "outputs": [],
   "source": [
    "data.info()"
   ]
  },
  {
   "cell_type": "code",
   "execution_count": null,
   "id": "0b74db6c-96ec-43ae-aeba-38e81afec430",
   "metadata": {},
   "outputs": [],
   "source": [
    "data.head()"
   ]
  },
  {
   "cell_type": "code",
   "execution_count": null,
   "id": "55670959-1cff-4504-ae24-829a09ab15a8",
   "metadata": {},
   "outputs": [],
   "source": [
    "# Vérification des doublons\n",
    "data.duplicated().sum()"
   ]
  },
  {
   "cell_type": "code",
   "execution_count": null,
   "id": "3353b90b-be11-4768-bb22-7b2215262c14",
   "metadata": {},
   "outputs": [],
   "source": [
    "# Créer une copie des données originales pour garder l'historique\n",
    "data_with_duplicates = data.copy()"
   ]
  },
  {
   "cell_type": "code",
   "execution_count": null,
   "id": "d2bb9760-8f35-4f90-882e-39971b139c89",
   "metadata": {},
   "outputs": [],
   "source": [
    "# Vérifier les dimensions des deux DataFrames pour s'assurer qu'ils sont identiques\n",
    "print(f\"Taille de data originale: {data.shape}\")\n",
    "print(f\"Taille de la copie data_with_duplicates : {data_with_duplicates.shape}\")"
   ]
  },
  {
   "cell_type": "code",
   "execution_count": null,
   "id": "bd1e8bb3-ec26-4202-b82f-2895e84320b6",
   "metadata": {},
   "outputs": [],
   "source": [
    "# Supprimer les doublons et créer une nouvelle base de données sans doublons\n",
    "data_without_duplicates = data.drop_duplicates()\n",
    "print(f\"Les doublons sont supprimés et la la base de données sans doublons est créer\")"
   ]
  },
  {
   "cell_type": "code",
   "execution_count": null,
   "id": "ad7141a3-94d8-493a-a80a-66fb6cf6ff4d",
   "metadata": {},
   "outputs": [],
   "source": [
    "# Vérification des dimensions après suppression des doublons\n",
    "print(f\"Taille de data_without_duplicates est : {data_without_duplicates.shape}\")"
   ]
  },
  {
   "cell_type": "code",
   "execution_count": null,
   "id": "4be1f2e7-60cc-4334-84bb-3e26433b191f",
   "metadata": {},
   "outputs": [],
   "source": [
    "print(f\"Doublons supprimés : {data_with_duplicates.shape[0] - data_without_duplicates.shape[0]}\")"
   ]
  },
  {
   "cell_type": "markdown",
   "id": "1992df16-18b7-4560-abc3-e69995a9ce97",
   "metadata": {},
   "source": [
    "#### On a supprimés les doublons qui peuvent fausser les résultats de certaines observations"
   ]
  },
  {
   "cell_type": "code",
   "execution_count": null,
   "id": "e44f0637-89b3-4c8b-a7fc-bb77488af6fb",
   "metadata": {},
   "outputs": [],
   "source": [
    "# Valeur manquantes\n",
    "data.isnull().sum()"
   ]
  },
  {
   "cell_type": "markdown",
   "id": "8c6b67f8-e73a-48f8-a6b2-95618b7219ec",
   "metadata": {},
   "source": [
    "#### * Le résultat indique qu'on a un valeur manquant pour tout les colonnes sauf la colonne Address.\n",
    "#### * Les valeurs manquantes peuvent affecter l'analyse et les résultats du modèle, surtout si on utilises ces colonnes pour l'apprentissage automatique."
   ]
  },
  {
   "cell_type": "markdown",
   "id": "28e357d3-1210-4190-9027-c0cba1117aa5",
   "metadata": {},
   "source": [
    "### Pour Traiter les lignes avec des valeurs manquantes on a plusieur possibilité:"
   ]
  },
  {
   "cell_type": "markdown",
   "id": "07844a10-1b6b-48f5-bb82-b00bebecc10d",
   "metadata": {},
   "source": [
    "#### 1- On peut supprimer les lignes avec des valeurs manquantes  =>  data_cleaned = data.dropna().\n",
    "\n",
    "#### print(f\"Taille après suppression des lignes avec des valeurs manquantes : {data_cleaned_dropna.shape}\")"
   ]
  },
  {
   "cell_type": "markdown",
   "id": "77422234-7b4e-4ee1-92d1-9d676149e56b",
   "metadata": {},
   "source": [
    "#### 2- Imputation avec la moyenne, la médiane ou le mode."
   ]
  },
  {
   "cell_type": "code",
   "execution_count": null,
   "id": "6ebc8437-23f5-498a-80e8-9858412e780f",
   "metadata": {},
   "outputs": [],
   "source": [
    "# Créer une copie des données originales pour garder l'historique\n",
    "data_original = data_without_duplicates.copy()\n",
    "\n",
    "# Vérification de la taille pour s'assurer que la copie est identique\n",
    "print(f\"Taille du dataset original : {data_original.shape}\")"
   ]
  },
  {
   "cell_type": "markdown",
   "id": "dc2fe2af-9fae-4269-8949-8dfa2e0d6214",
   "metadata": {},
   "source": [
    "##### 2.1- Imputation avec la moyenne"
   ]
  },
  {
   "cell_type": "code",
   "execution_count": null,
   "id": "7b4018c9-851d-4dfe-a67a-8bab37648654",
   "metadata": {},
   "outputs": [],
   "source": [
    "from sklearn.impute import SimpleImputer\n",
    "# Créer une base de données pour imputation\n",
    "data_cleaned_imputed_moyenne = data_original.copy()\n",
    "\n",
    "# Imputer avec la moyenne pour les colonnes numériques\n",
    "imputer = SimpleImputer(strategy='mean')\n",
    "data_cleaned_imputed_moyenne[['Avg. Area Income', 'Avg. Area House Age', 'Avg. Area Number of Rooms', \n",
    "      'Avg. Area Number of Bedrooms', 'Area Population', 'Price']] = imputer.fit_transform(\n",
    "    data_cleaned_imputed_moyenne[['Avg. Area Income', 'Avg. Area House Age', 'Avg. Area Number of Rooms', \n",
    "                          'Avg. Area Number of Bedrooms', 'Area Population', 'Price']])\n",
    "data_cleaned_imputed = data_cleaned_imputed_moyenne.copy()\n",
    "\n",
    "# Vérification de la taille après imputation\n",
    "print(f\"Taille après imputation des valeurs manquantes : {data_cleaned_imputed_moyenne.shape}\")"
   ]
  },
  {
   "cell_type": "markdown",
   "id": "5945f206-ea31-4a35-b532-3f8a584cd936",
   "metadata": {},
   "source": [
    "##### 2.2- Imputation avec la médiane (pour éviter l'influence des valeurs extrêmes)"
   ]
  },
  {
   "cell_type": "code",
   "execution_count": null,
   "id": "c8cad302-8c93-4fdb-9c68-8c08cc9f59c2",
   "metadata": {},
   "outputs": [],
   "source": [
    "from sklearn.impute import SimpleImputer\n",
    "# Créer une base de données pour imputation\n",
    "data_cleaned_imputed_mediane = data_original.copy()\n",
    "\n",
    "# Appliquer l'imputeur sur les mêmes colonnes\n",
    "imputer = SimpleImputer(strategy='median')\n",
    "data_cleaned_imputed_mediane[['Avg. Area Income', 'Avg. Area House Age', 'Avg. Area Number of Rooms', \n",
    "      'Avg. Area Number of Bedrooms', 'Area Population', 'Price']] = imputer.fit_transform(\n",
    "    data_cleaned_imputed_mediane[['Avg. Area Income', 'Avg. Area House Age', 'Avg. Area Number of Rooms', \n",
    "          'Avg. Area Number of Bedrooms', 'Area Population', 'Price']])\n",
    "data_cleaned_imputed = data_cleaned_imputed_mediane.copy()\n",
    "\n",
    "# Vérification de la taille après imputation\n",
    "print(f\"Taille après imputation des valeurs manquantes : {data_cleaned_imputed_mediane.shape}\")"
   ]
  },
  {
   "cell_type": "markdown",
   "id": "af4dd533-bb74-4709-a5f5-be0b66ccb30c",
   "metadata": {},
   "source": [
    "##### 2.3- Imputation par le mode"
   ]
  },
  {
   "cell_type": "code",
   "execution_count": null,
   "id": "1086e5d7-eb5c-41b5-b4a3-e2fcdc4939a3",
   "metadata": {},
   "outputs": [],
   "source": [
    "from sklearn.impute import SimpleImputer\n",
    "\n",
    "# Créer une base de données pour imputation par le mode\n",
    "data_cleaned_imputed_mode = data_original.copy()\n",
    "\n",
    "# Créer un imputeur pour remplacer les valeurs manquantes par le mode\n",
    "imputer_mode = SimpleImputer(strategy='most_frequent')\n",
    "\n",
    "# Appliquer l'imputeur sur les colonnes numériques\n",
    "data_cleaned_imputed_mode[['Avg. Area Income', 'Avg. Area House Age', \n",
    "                   'Avg. Area Number of Rooms', 'Avg. Area Number of Bedrooms', \n",
    "                   'Area Population', 'Price']] = imputer_mode.fit_transform(\n",
    "    data_cleaned_imputed_mode[['Avg. Area Income', 'Avg. Area House Age', \n",
    "                        'Avg. Area Number of Rooms', 'Avg. Area Number of Bedrooms', \n",
    "                        'Area Population', 'Price']]\n",
    ")\n",
    "data_cleaned_imputed = data_cleaned_imputed_mode.copy()\n",
    "\n",
    "# Vérification de la taille après imputation\n",
    "print(f\"Taille après imputation par le mode : {data_cleaned_imputed_mode.shape}\")"
   ]
  },
  {
   "cell_type": "markdown",
   "id": "3aa40c77-cc7b-4248-abff-c5f88b621dba",
   "metadata": {},
   "source": [
    "##### 2.3- Remplacer par une valeur fixe"
   ]
  },
  {
   "cell_type": "code",
   "execution_count": null,
   "id": "b96ccef0-3460-49df-804d-c76d73eb48a4",
   "metadata": {},
   "outputs": [],
   "source": [
    "# Créer une base de données pour remplacement par une valeur fixe\n",
    "data_cleaned_fixed = data_original.copy()\n",
    "\n",
    "# Remplacer les valeurs manquantes par 0 ou une autre valeur fixe\n",
    "data_cleaned_fixed.fillna(0, inplace=True)\n",
    "data_cleaned_imputed = data_cleaned_fixed.copy()\n",
    "\n",
    "# Vérification de la taille après remplacement\n",
    "print(f\"Taille après remplacement des valeurs manquantes : {data_cleaned_fixed.shape}\")"
   ]
  },
  {
   "cell_type": "markdown",
   "id": "b1db2e89-f7a4-4800-a2cd-0e9244221e5a",
   "metadata": {},
   "source": [
    "### Créer une colonne indicatrice pour les valeurs manquantes"
   ]
  },
  {
   "cell_type": "code",
   "execution_count": null,
   "id": "079ace73-7814-4f80-bd4a-be33b9fe7626",
   "metadata": {},
   "outputs": [],
   "source": [
    "# Créer une base de données pour ajout de colonne indicatrice\n",
    "data_with_indicators = data.copy()\n",
    "\n",
    "# Créer une colonne indicatrice pour chaque variable avec des valeurs manquantes\n",
    "data_with_indicators['Income_missing'] = data['Avg. Area Income'].isnull().astype(int)\n",
    "data_with_indicators['House_Age_missing'] = data['Avg. Area House Age'].isnull().astype(int)\n",
    "data_with_indicators['Rooms_missing'] = data['Avg. Area Number of Rooms'].isnull().astype(int)\n",
    "data_with_indicators['Bedrooms_missing'] = data['Avg. Area Number of Bedrooms'].isnull().astype(int)\n",
    "data_with_indicators['Population_missing'] = data['Area Population'].isnull().astype(int)\n",
    "\n",
    "# Imputer les valeurs manquantes pour les colonnes numériques uniquement\n",
    "numerical_columns = ['Avg. Area Income', 'Avg. Area House Age', 'Avg. Area Number of Rooms', \n",
    "                     'Avg. Area Number of Bedrooms', 'Area Population', 'Price']\n",
    "\n",
    "data_with_indicators[numerical_columns] = data_with_indicators[numerical_columns].fillna(\n",
    "    data[numerical_columns].mean())\n",
    "\n",
    "# Vérification de la taille après ajout des indicateurs et traitement des valeurs manquantes\n",
    "print(f\"Taille après ajout des indicateurs et imputation : {data_with_indicators.shape}\")"
   ]
  },
  {
   "cell_type": "markdown",
   "id": "ef90cfd6-271b-4264-a16b-f09c2d2745b5",
   "metadata": {},
   "source": [
    "Le résultat indique que la taille du DataFrame après ajout des indicateurs et imputation est de (5012, 12). \n",
    "Cela signifie :\n",
    "\n",
    "5012 : Il y a 5012 lignes dans le DataFrame, ce qui est le même nombre de lignes que dans les données originales.\n",
    "Aucune ligne n'a été supprimée pendant le traitement des valeurs manquantes.\n",
    "\n",
    "12 colonnes : Le nombre de colonnes est passé de 7 à 12. Cela s'explique par :\n",
    "\n",
    "Les 7 colonnes originales (par exemple, Avg. Area Income, Avg. Area House Age, etc.).\n",
    "L'ajout de 5 nouvelles colonnes indicatrices (Income_missing, House_Age_missing, Rooms_missing, Bedrooms_missing,\n",
    "Population_missing), qui enregistrent les positions où les valeurs étaient manquantes.\n",
    "\n",
    "Interprétation :\n",
    "Les colonnes indicatrices : Elles permettent de savoir quelles valeurs étaient manquantes dans les colonnes \n",
    "numériques avant l'imputation. Chaque colonne indicatrice contient soit 1 (indiquant une valeur manquante), \n",
    "soit 0 (valeur non manquante).\n",
    "\n",
    "Imputation : Les valeurs manquantes dans les colonnes numériques ont été remplacées par la moyenne des autres \n",
    "valeurs, ce qui permet de conserver l'intégrité des données sans perte d'information."
   ]
  },
  {
   "cell_type": "markdown",
   "id": "0a236f79-b8e1-4140-9d41-422a1de60841",
   "metadata": {},
   "source": [
    "### Comparer les versions"
   ]
  },
  {
   "cell_type": "code",
   "execution_count": null,
   "id": "daf4acb0-bffc-4335-a6e1-e9ee7a38f173",
   "metadata": {},
   "outputs": [],
   "source": [
    "# Comparer la taille des datasets\n",
    "print(f\"Taille de la base de données original : {data_original.shape}\")\n",
    "print(f\"Taille après suppression des lignes avec des valeurs manquantes : {data_without_duplicates.shape}\")\n",
    "print(f\"Taille après imputation des valeurs manquantes : {data_cleaned_imputed.shape}\")\n",
    "print(f\"Taille après ajout des indicateurs et imputation : {data_with_indicators.shape}\")"
   ]
  },
  {
   "cell_type": "markdown",
   "id": "3e818d27-125e-4a7d-91ed-2c3ca90cfdbe",
   "metadata": {},
   "source": [
    "### Analyse data"
   ]
  },
  {
   "cell_type": "code",
   "execution_count": null,
   "id": "d970c255-0abb-4e96-bb6d-47a564cc42f2",
   "metadata": {},
   "outputs": [],
   "source": [
    "# Afficher les correlations entre les variables \n",
    "sns.pairplot(data_cleaned_imputed)"
   ]
  },
  {
   "cell_type": "markdown",
   "id": "90d6b8e7-ee06-439b-9d0d-22c47466ff0e",
   "metadata": {},
   "source": [
    "### 1. Corrélations significatives :\n",
    "Avg. Area Income et Price : On remarque un léger alignement des points en montée entre ces deux variables, \n",
    "indiquant une corrélation positive. Cela signifie que les revenus moyens dans une zone tendent à augmenter \n",
    "avec le prix des maisons.\n",
    "\n",
    "Area Population et Price : La dispersion des points suggère qu'il n'y a pas de corrélation significative \n",
    "entre la population de la zone et le prix des maisons.\n",
    "\n",
    "Avg. Area House Age et Price : Il n’y a pas de tendance claire entre l’âge moyen des maisons et leur prix. \n",
    "Les points sont dispersés de façon aléatoire, ce qui montre peu ou pas de lien.\n",
    "\n",
    "### 2. Corrélations faibles ou absentes :\n",
    "Avg. Area Number of Rooms et Price : Bien que la variable soit catégorique (de 4 à 10 pièces), il n'y a pas \n",
    "de tendance forte entre le nombre de pièces et le prix. Les points sont disposés en groupes horizontaux sans \n",
    "relation linéaire.\n",
    "\n",
    "Avg. Area Number of Bedrooms et Price : Même constat, il y a peu de lien direct visible entre le nombre moyen \n",
    "de chambres et le prix. Les points sont alignés de manière horizontale et peu structurée.\n",
    "\n",
    "### 3. Distributions des variables :\n",
    "Les distributions univariées (sur la diagonale) montrent que certaines variables comme Avg. Area Income et \n",
    "Price suivent une distribution normale, avec des valeurs concentrées autour d'une moyenne.\n",
    "Les variables comme Avg. Area Number of Rooms et Avg. Area Number of Bedrooms semblent suivre une distribution \n",
    "discrète ou catégorique, avec des valeurs spécifiques récurrentes (barres visibles).\n",
    "Conclusion :\n",
    "Relation prix/revenu : Il y a une légère corrélation positive entre le revenu moyen d'une zone et le prix des \n",
    "maisons.\n",
    "Absence de corrélation pour d'autres variables : Certaines variables, comme le nombre de chambres ou l'âge moyen \n",
    "des maisons, semblent avoir peu d'influence directe sur le prix."
   ]
  },
  {
   "cell_type": "markdown",
   "id": "b2c900e8-d407-44e8-8d7e-5e60b623bbc5",
   "metadata": {},
   "source": [
    "### Preparation data"
   ]
  },
  {
   "cell_type": "code",
   "execution_count": null,
   "id": "85f87550-3360-4574-9a39-27ab2576ae26",
   "metadata": {},
   "outputs": [],
   "source": [
    "x= data_cleaned_imputed [['Avg. Area Income', 'Avg. Area House Age', 'Avg. Area Number of Rooms', 'Avg. Area Number of Bedrooms', 'Area Population']] \n",
    "y= data_cleaned_imputed ['Price']"
   ]
  },
  {
   "cell_type": "markdown",
   "id": "09ee4d6c-5b14-408b-96e8-f403ce0d679b",
   "metadata": {},
   "source": [
    "### Préparer la base de données en Train et Test"
   ]
  },
  {
   "cell_type": "code",
   "execution_count": null,
   "id": "03151d4c-15fe-4e53-ab64-47f58197dd20",
   "metadata": {},
   "outputs": [],
   "source": [
    "# Définir X et y\n",
    "X = data_cleaned_imputed.drop(['Price', 'Address'], axis=1)  # Supprimer la colonne 'Address' could not convert string to float # Toutes les colonnes sauf 'Price'\n",
    "y = data_cleaned_imputed ['Price']  # La colonne 'Price' comme cible"
   ]
  },
  {
   "cell_type": "code",
   "execution_count": null,
   "id": "bf5f52f9-2e31-40a7-a6f6-5f35ae247da0",
   "metadata": {},
   "outputs": [],
   "source": [
    "# Split des données\n",
    "X_train, X_test, y_train, y_test = train_test_split(X, y, test_size=0.3, random_state=101)"
   ]
  },
  {
   "cell_type": "code",
   "execution_count": null,
   "id": "edce7dab-09cd-4b60-bb03-8aa3b77a2840",
   "metadata": {},
   "outputs": [],
   "source": [
    "# Vérifier les dimensions des ensembles de données\n",
    "print(f\"X_train shape: {X_train.shape}\")\n",
    "print(f\"X_test shape: {X_test.shape}\")\n",
    "print(f\"y_train shape: {y_train.shape}\")\n",
    "print(f\"y_test shape: {y_test.shape}\")"
   ]
  },
  {
   "cell_type": "markdown",
   "id": "b57c13e4-e383-4ad1-b08f-50c28be91242",
   "metadata": {},
   "source": [
    "### Objectif des données en Train et Test:\n",
    "Entraînement : Le modèle sera entraîné sur l'ensemble X_train et y_train, c'est-à-dire qu'il apprendra à établir des relations entre les caractéristiques (colonnes) et les cibles (prix, par exemple).\n",
    "\n",
    "Test : L'ensemble X_test et y_test servira à tester la généralisation du modèle. \n",
    "\n",
    "Après l'entraînement, tu pourras prédire les valeurs cibles sur X_test et comparer ces prédictions avec les valeurs réelles dans y_test."
   ]
  },
  {
   "cell_type": "markdown",
   "id": "568a8358-1d48-4588-ba67-f961e7cc2e0e",
   "metadata": {},
   "source": [
    "## Application du modele K-Nearest Neighbors KNN"
   ]
  },
  {
   "cell_type": "markdown",
   "id": "b61197db-de3f-495e-8c0b-0419fb8d6491",
   "metadata": {},
   "source": [
    "##### Préparer les données"
   ]
  },
  {
   "cell_type": "code",
   "execution_count": null,
   "id": "4c1522e9-c6b0-42e3-a3de-34df3a1150f4",
   "metadata": {},
   "outputs": [],
   "source": [
    "# Supposons que vous ayez déjà nettoyé les données\n",
    "X = data_cleaned_imputed[['Avg. Area Income', 'Avg. Area House Age', \n",
    "                            'Avg. Area Number of Rooms', 'Avg. Area Number of Bedrooms', \n",
    "                            'Area Population']]\n",
    "y = data_cleaned_imputed['Price']\n",
    "\n",
    "# Diviser les données en ensemble d'entraînement et de test\n",
    "X_train, X_test, y_train, y_test = train_test_split(X, y, test_size=0.3, random_state=101)\n"
   ]
  },
  {
   "cell_type": "code",
   "execution_count": null,
   "id": "459ed3c2-306b-4894-abb4-139c1e603a0b",
   "metadata": {},
   "outputs": [],
   "source": [
    "# Vérifiez la taille des ensembles\n",
    "print(f\"X_train shape: {X_train.shape}\")\n",
    "print(f\"X_test shape: {X_test.shape}\")\n",
    "print(f\"y_train shape: {y_train.shape}\")\n",
    "print(f\"y_test shape: {y_test.shape}\")"
   ]
  },
  {
   "cell_type": "code",
   "execution_count": null,
   "id": "7897d526-329a-4169-a311-73f5e8deb2b0",
   "metadata": {},
   "outputs": [],
   "source": [
    "# Créer le modèle KNN et l'entraîner\n",
    "knn_model = KNeighborsRegressor(n_neighbors=5)\n",
    "knn_model.fit(X_train, y_train)"
   ]
  },
  {
   "cell_type": "code",
   "execution_count": null,
   "id": "98816a05-c8c8-4466-9012-bac6d8ac8cb0",
   "metadata": {},
   "outputs": [],
   "source": [
    "# Prédire sur les données de test\n",
    "y_knn_pred = knn_model.predict(X_test)"
   ]
  },
  {
   "cell_type": "code",
   "execution_count": null,
   "id": "69cd6f3f-733e-41ae-ac5e-8b905086de32",
   "metadata": {},
   "outputs": [],
   "source": [
    "# Calcul des erreurs pour le modèle KNN\n",
    "mae_knn = mean_absolute_error(y_test, y_knn_pred)\n",
    "mse_knn = mean_squared_error(y_test, y_knn_pred)\n",
    "rmse_knn = np.sqrt(mse_knn)\n",
    "r2_score_knn = knn_model.score(X_test, y_test)"
   ]
  },
  {
   "cell_type": "code",
   "execution_count": null,
   "id": "4a3bf6b3-a271-430d-9a27-e62aa715f5ca",
   "metadata": {},
   "outputs": [],
   "source": [
    "# Afficher les résultats de KNN\n",
    "print(f\"MAE (KNN): {mae_knn}\")\n",
    "print(f\"MSE (KNN): {mse_knn}\")\n",
    "print(f\"RMSE (KNN): {rmse_knn}\")\n",
    "print(f\"Score R² (KNN): {r2_score_knn}\")"
   ]
  },
  {
   "cell_type": "markdown",
   "id": "4be1144b-c977-475d-872b-590254139461",
   "metadata": {},
   "source": [
    "#### MAE l’erreur moyenne absolue, soit la différence moyenne entre les valeurs réelles et les valeurs prédites. Ici, en moyenne, les prédictions du modèle KNN s’écartent de 201,929.90 des prix réels, ce qui est assez élevé pour des valeurs de prix."
   ]
  },
  {
   "cell_type": "markdown",
   "id": "c6154ffd-3e08-47af-8ef4-5f3c3fda701a",
   "metadata": {},
   "source": [
    "#### MSE pénalise les grandes erreurs plus fortement, puisqu’il élève les erreurs au carré."
   ]
  },
  {
   "cell_type": "markdown",
   "id": "c6ae4d81-8d34-47fb-bef0-5f8a2b627025",
   "metadata": {},
   "source": [
    "#### RMSE (Root Mean Squared Error) En prenant la racine carrée du MSE, l’erreur de 254,994.07 montre encore une fois une différence assez importante"
   ]
  },
  {
   "cell_type": "markdown",
   "id": "7ab2c645-972d-4f5c-88ed-cc902122d7a6",
   "metadata": {},
   "source": [
    " #### La valeur 0.4827 Score R² signifie que le modèle explique environ 48.3% de la variance des prix de maisons. "
   ]
  },
  {
   "cell_type": "markdown",
   "id": "e393894f-98d2-4e74-aaef-00606f8bd1e1",
   "metadata": {},
   "source": [
    "### Voyant le R² ajusté"
   ]
  },
  {
   "cell_type": "code",
   "execution_count": null,
   "id": "e2192edd-0da9-4a82-888e-070336e420af",
   "metadata": {},
   "outputs": [],
   "source": [
    "# Calculer R² ajusté\n",
    "n = X_test.shape[0]  # Nombre d'échantillons\n",
    "p = X_test.shape[1]  # Nombre de caractéristiques\n",
    "r2_adjusted_knn = 1 - (1 - r2_score_knn) * (n - 1) / (n - p - 1)\n",
    "print(f\"R² ajusté (KNN): {r2_adjusted_knn}\")"
   ]
  },
  {
   "cell_type": "code",
   "execution_count": null,
   "id": "2ae8b6dc-430c-4221-8d4f-5b55563d9ed7",
   "metadata": {},
   "outputs": [],
   "source": [
    "#### R² ajusté de 0.4810, signifie que, même en prenant en compte le nombre de variables explicatives dans le modèle, celui-ci n'explique toujours qu'environ 48.1% de la variance des prix."
   ]
  },
  {
   "cell_type": "markdown",
   "id": "65a56503-8d11-4d36-8c70-a5ab59dbc4e4",
   "metadata": {},
   "source": [
    "# --- Section Matrice de Confusion ---"
   ]
  },
  {
   "cell_type": "code",
   "execution_count": null,
   "id": "0691a094-d803-47ea-b828-43a7b1719119",
   "metadata": {},
   "outputs": [],
   "source": [
    "# Créer une catégorie de prix\n",
    "data_cleaned_imputed['Price_Category'] = pd.qcut(data_cleaned_imputed['Price'], q=3, labels=['Low', 'Medium', 'High'])\n",
    "\n",
    "# Définir les variables pour la classification\n",
    "X_class = data_cleaned_imputed[['Avg. Area Income', 'Avg. Area House Age', 'Avg. Area Number of Rooms']]\n",
    "y_class = data_cleaned_imputed['Price_Category']\n"
   ]
  },
  {
   "cell_type": "code",
   "execution_count": null,
   "id": "8fb39311-65af-4c96-9c7d-2cc3c2b05917",
   "metadata": {},
   "outputs": [],
   "source": [
    "# Diviser les données en ensemble d'entraînement et de test\n",
    "X_train_class, X_test_class, y_train_class, y_test_class = train_test_split(X_class, y_class, test_size=0.2, random_state=42)\n"
   ]
  },
  {
   "cell_type": "code",
   "execution_count": null,
   "id": "03146460-b97d-4b3b-8f12-e24c0ef9529b",
   "metadata": {},
   "outputs": [],
   "source": [
    "# Créer et entraîner le modèle KNN pour la classification\n",
    "knn_model_class = KNeighborsClassifier(n_neighbors=5)\n",
    "knn_model_class.fit(X_train_class, y_train_class)\n",
    "\n",
    "# Prédire les classes pour l'ensemble de test\n",
    "y_pred_class = knn_model_class.predict(X_test_class)\n",
    "\n",
    "# Calculer et afficher la matrice de confusion\n",
    "conf_matrix = confusion_matrix(y_test_class, y_pred_class, labels=['Low', 'Medium', 'High'])\n",
    "\n",
    "# Visualiser la matrice de confusion\n",
    "sns.heatmap(conf_matrix, annot=True, fmt=\"d\", cmap=\"Blues\", xticklabels=['Low', 'Medium', 'High'], yticklabels=['Low', 'Medium', 'High'])\n",
    "plt.xlabel(\"Prédictions\")\n",
    "plt.ylabel(\"Réel\")\n",
    "plt.title(\"Matrice de confusion pour KNN\")\n",
    "plt.show()\n",
    "\n",
    "# Afficher le rapport de classification pour plus d'indicateurs\n",
    "print(classification_report(y_test_class, y_pred_class))"
   ]
  },
  {
   "cell_type": "markdown",
   "id": "d80af964-ff0d-4093-9606-2f5eb255a50e",
   "metadata": {},
   "source": [
    "#### Interprétation des résultats :\n",
    "Low :\n",
    "\n",
    "Précision : 0.54\n",
    "Rappel : 0.63\n",
    "F1-Score : 0.58\n",
    "Support : 342\n",
    "Medium :\n",
    "\n",
    "Précision : 0.41\n",
    "Rappel : 0.28\n",
    "F1-Score : 0.33\n",
    "Support : 335\n",
    "High :\n",
    "\n",
    "Précision : 0.57\n",
    "Rappel : 0.66\n",
    "F1-Score : 0.61\n",
    "Support : 323\n",
    "Global Metrics :\n",
    "\n",
    "Exactitude : 0.52\n",
    "Macro Avg : 0.51\n",
    "Weighted Avg : 0.51\n",
    "Conclusions :\n",
    "La classe \"High\" a la meilleure performance, tandis que \"Medium\" montre une performance plus faible, surtout en termes de rappel et de F1-score.\n",
    "L'exactitude globale du modèle est relativement modeste à 0.52, ce qui pourrait indiquer que le modèle a des difficultés à prédire certaines classes correctement.\n",
    "Envisagez d'optimiser votre modèle ou d'explorer d'autres algorithmes si ces résultats ne répondent pas à vos attentes."
   ]
  },
  {
   "cell_type": "markdown",
   "id": "ae055b94-8c1f-4bfe-8228-e426b0ed86f7",
   "metadata": {},
   "source": [
    "# --- Section Ordinary Least Squares ---"
   ]
  },
  {
   "cell_type": "markdown",
   "id": "b32ce4a5-ae3a-4c39-a7cb-958da85960ea",
   "metadata": {},
   "source": [
    "#####\n",
    "Pour la partie OLS du modele KNN, il est nécéssaire de mentionner que: la régression par les moindres carrés ordinaires (Ordinary Least Squares, OLS) avec un modèle KNN, il est nécessaire de bien comprendre que l'OLS est généralement utilisé pour les modèles linéaires, comme ceux construits avec LinearRegression de scikit-learn. Le KNN est, lui, un algorithme non paramétrique et ne se prête pas directement à une analyse OLS car il n’a pas de coefficients à ajuster de manière linéaire..\n",
    "\n",
    "Cependant, si on souhaite évaluer la précision de notre modèle KNN, nous pouvons utiliser les erreurs moyennes telles que Mean Absolute Error (MAE) ou Mean Squared Error (MSE) qui indiquent la précision du modèle sans ajuster des paramètres comme dans une OLS classique."
   ]
  },
  {
   "cell_type": "markdown",
   "id": "ecbd9ac9-dcf4-49ea-8c13-e42c0855d0e9",
   "metadata": {},
   "source": [
    "MAE (KNN): 201929.8975871893\n",
    "MSE (KNN): 65021975821.54046\n",
    "RMSE (KNN): 254994.07016936777\n",
    "Score R² (KNN): 0.4827404380160554"
   ]
  },
  {
   "cell_type": "markdown",
   "id": "149220d6-0028-4772-876f-870aab80e657",
   "metadata": {},
   "source": [
    "## Application du modele Régression Lineaire"
   ]
  },
  {
   "cell_type": "code",
   "execution_count": null,
   "id": "b097b335-a560-43bb-bcbd-e211b225a599",
   "metadata": {},
   "outputs": [],
   "source": [
    "# Transformer les données en supprimant la colonne 'Address' et en utilisant pd.get_dummies\n",
    "X = pd.get_dummies(data_cleaned_imputed.drop(['Price', 'Address'], axis=1), drop_first=True)\n",
    "y = data_cleaned_imputed['Price']"
   ]
  },
  {
   "cell_type": "code",
   "execution_count": null,
   "id": "2d2a1744-6376-4ae0-a0e5-6b27314aa67d",
   "metadata": {},
   "outputs": [],
   "source": [
    "# Diviser les données en ensembles d'entraînement et de test\n",
    "X_train, X_test, y_train, y_test = train_test_split(X, y, test_size=0.3, random_state=101)"
   ]
  },
  {
   "cell_type": "code",
   "execution_count": null,
   "id": "1a4d96f2-3732-4843-95de-933c454fc756",
   "metadata": {},
   "outputs": [],
   "source": [
    "# Vérifier que toutes les colonnes sont numériques\n",
    "print(\"Types de données dans X_train:\")\n",
    "print(X_train.dtypes)"
   ]
  },
  {
   "cell_type": "code",
   "execution_count": null,
   "id": "1fc5b025-974c-426f-9081-33ca611a98ac",
   "metadata": {},
   "outputs": [],
   "source": [
    "# Entraîner le modèle\n",
    "regressor = LinearRegression()\n",
    "regressor.fit(X_train, y_train)  # Entraîner le modèle\n",
    "\n",
    "print(\"Le modèle a été entraîné avec succès.\")"
   ]
  },
  {
   "cell_type": "markdown",
   "id": "caa97a78-691b-49f2-b7b8-d1207f2d91ab",
   "metadata": {},
   "source": [
    "### Objectif des données en Train et Test:\n",
    "Entraînement : Le modèle sera entraîné sur l'ensemble X_train et y_train, c'est-à-dire qu'il apprendra à établir des relations entre les caractéristiques (colonnes) et les cibles (prix, par exemple).\n",
    "\n",
    "Test : L'ensemble X_test et y_test servira à tester la généralisation du modèle. \n",
    "\n",
    "Après l'entraînement, tu pourras prédire les valeurs cibles sur X_test et comparer ces prédictions avec les valeurs réelles dans y_test."
   ]
  },
  {
   "cell_type": "markdown",
   "id": "19e3af1e-7818-4103-964b-3241e4797697",
   "metadata": {},
   "source": [
    "### Construction du model"
   ]
  },
  {
   "cell_type": "code",
   "execution_count": null,
   "id": "8a3cb1d8-f1b4-4a19-9d3b-fb54b6d88c63",
   "metadata": {},
   "outputs": [],
   "source": [
    "# Construction du modèle\n",
    "regressor = LinearRegression()\n",
    "regressor.fit(X_train, y_train)  # Entraîner le modèle\n"
   ]
  },
  {
   "cell_type": "code",
   "execution_count": null,
   "id": "bddbf90d-03cd-42bc-a441-56067d4855a1",
   "metadata": {},
   "outputs": [],
   "source": [
    "# Évaluation du modèle\n",
    "print(f\"Intercept : {regressor.intercept_}\")\n",
    "print(f\"Coefficients : {regressor.coef_}\")"
   ]
  },
  {
   "cell_type": "markdown",
   "id": "05a81562-9dcb-444a-b8b9-b53965acb0f7",
   "metadata": {},
   "source": [
    "### Interprétation :\n",
    "Intercept : Il s'agit de la valeur prédite de la variable cible (par exemple, le prix de la maison) lorsque toutes les variables explicatives sont égales à 0.\n",
    "C'est le point où la ligne de régression coupe l'axe des ordonnées (l'axe y) lorsque toutes les variables explicatives sont nulles.\n",
    "\n",
    "Dans notre cas l'intercept est négatif : cela pourrait indiquer que sans aucune contribution des variables explicatives (quand toutes sont à zéro), le modèle prédit une valeur cible négative, ce qui n'est pas nécessairement réaliste dans un contexte comme les prix des maisons.\n",
    "\n",
    "#### Cependant, les intercepts peuvent parfois être difficiles à interpréter directement, surtout si les valeurs nulles pour les variables explicatives n'ont pas de sens pratique. L'important est surtout la précision de notre modèle global."
   ]
  },
  {
   "cell_type": "code",
   "execution_count": null,
   "id": "316ebf37-d3d0-479c-b5d9-75921f1e723c",
   "metadata": {},
   "outputs": [],
   "source": [
    "# Créer un DataFrame pour les coefficients\n",
    "coeff_df = pd.DataFrame(regressor.coef_, X.columns, columns=['Coefficient'])\n",
    "print(coeff_df)"
   ]
  },
  {
   "cell_type": "markdown",
   "id": "2ae3cedb-2501-4810-acf5-a0e9211609cc",
   "metadata": {},
   "source": [
    "### Chaque élément de la liste de coefficients correspond à une des variables explicatives dans le modèle.\n",
    "\n",
    "2.16230248e+01 : Cela signifie que pour chaque unité d'augmentation de la première variable (par exemple, le revenu moyen de la zone), le prix de la maison augmente en moyenne de 21.62 unités, en gardant les autres variables constantes.\n",
    "\n",
    "1.65209380e+05 : Pour chaque unité d'augmentation de la deuxième variable, le prix augmente de 165 209 unités.\n",
    "\n",
    "1.21462297e+05, 1.22296313e+03, 1.52173463e+01 : Le même raisonnement s'applique à chacune des autres variables.\n",
    "\n",
    "#### En résumé : Les coefficients montrent à quel point chaque variable explicative influence la variable cible (prix des maisons)."
   ]
  },
  {
   "cell_type": "code",
   "execution_count": null,
   "id": "776c1e34-0bc4-47b7-817c-69ce71ee6f48",
   "metadata": {},
   "outputs": [],
   "source": [
    "# Afficher le DataFrame\n",
    "print(coeff_df)"
   ]
  },
  {
   "cell_type": "markdown",
   "id": "b53c55f2-99c2-4d25-9975-9c4f5b231f1e",
   "metadata": {},
   "source": [
    "### Interprétation des coefficients dans le DataFrame :\n",
    "Avg. Area Income : 21.623025\n",
    "Cela signifie que pour chaque augmentation d'une unité dans le revenu moyen de la zone, le prix de la maison augmente en moyenne de 21.62 unités, toutes les autres variables étant constantes.\n",
    "\n",
    "Avg. Area House Age : 165209.379685\n",
    "Une augmentation d'une unité dans l'âge moyen des maisons de la zone entraîne une augmentation moyenne de 165 209 unités dans le prix de la maison.\n",
    "\n",
    "Avg. Area Number of Rooms : 121462.296674\n",
    "Chaque pièce supplémentaire dans la maison est associée à une augmentation moyenne du prix de 121 462 unités.\n",
    "\n",
    "Avg. Area Number of Bedrooms : 1222.963127\n",
    "Chaque chambre supplémentaire entraîne une augmentation moyenne du prix de 1 222 unités.\n",
    "\n",
    "Area Population : 15.217346\n",
    "Pour chaque personne supplémentaire dans la population de la zone, le prix de la maison augmente en moyenne de 15.22 unités.\n",
    "\n",
    "#### En résumé : Le coefficient le plus élevé est celui de l'âge moyen des maisons dans la zone (165 209 unités), ce qui suggère que cette variable a un impact beaucoup plus fort sur le prix des maisons par rapport aux autres variables. Les variables comme le nombre moyen de chambres et la population de la zone ont des coefficients relativement faibles, suggérant qu'elles ont moins d'influence sur le prix."
   ]
  },
  {
   "cell_type": "code",
   "execution_count": null,
   "id": "a96c9374-368b-441c-8fd2-3d206fc3ec5a",
   "metadata": {},
   "outputs": [],
   "source": [
    "# Prédictions\n",
    "y_predict = regressor.predict(X_test)"
   ]
  },
  {
   "cell_type": "code",
   "execution_count": null,
   "id": "0c267f35-89ae-498c-af60-75f1c1d1fb0c",
   "metadata": {},
   "outputs": [],
   "source": [
    "# Visualisation des résultats\n",
    "plt.scatter(y_test, y_predict, color='blue', label='Prédictions')\n",
    "plt.xlabel('Valeurs Réelles (y_test)')\n",
    "plt.ylabel('Valeurs Prédites (y_predict)')\n",
    "plt.title('Comparaison des Valeurs Réelles et Prédites')\n",
    "plt.plot([y_test.min(), y_test.max()], [y_test.min(), y_test.max()], color='green', linestyle='--', label='y=x')  # Ligne y=x\n",
    "plt.legend()\n",
    "plt.show()"
   ]
  },
  {
   "cell_type": "markdown",
   "id": "fb4fb50a-832f-4865-afa2-4e6ddfdf9fc7",
   "metadata": {},
   "source": [
    "#### On a une bonne corrélation entre les valeurs réelles et les valeurs prédites, comme le montre l'alignement des points le long de la diagonale. Il pourrait y avoir quelques écarts, mais globalement, la performance semble correcte."
   ]
  },
  {
   "cell_type": "markdown",
   "id": "731845cb-6e48-432c-b132-f4f5ef3ccb8d",
   "metadata": {},
   "source": [
    "### Evaluation des Metrics de la regression"
   ]
  },
  {
   "cell_type": "code",
   "execution_count": null,
   "id": "c7f3734e-4551-48a8-bdf2-cfd0cf50f2d6",
   "metadata": {},
   "outputs": [],
   "source": [
    "# Évaluation des métriques de régression\n",
    "print('MAE:', metrics.mean_absolute_error(y_test, y_predict))\n",
    "print('MSE:', metrics.mean_squared_error(y_test, y_predict))\n",
    "print('RMSE:', np.sqrt(metrics.mean_squared_error(y_test, y_predict)))\n",
    "print('R²:', metrics.r2_score(y_test, y_predict))"
   ]
  },
  {
   "cell_type": "markdown",
   "id": "c3eb42c3-f75e-48a6-ae7e-5321dfe0a53e",
   "metadata": {},
   "source": [
    "#### MAE (Mean Absolute Error) : 81,471.76\n",
    "\n",
    "Le MAE représente l'erreur moyenne absolue entre les prédictions du modèle et les valeurs réelles. Ici, cela signifie que, en moyenne, notre modèle de régression prédit un prix qui diffère de la réalité d'environ 81,471.76 unités de la devise utilisée.\n",
    "C'est une bonne mesure de l'erreur moyenne sans tenir compte de la direction (positive ou négative).\n",
    "MSE (Mean Squared Error) : 10,241,977,764.37\n",
    "\n",
    "Le MSE représente la moyenne des carrés des erreurs. Il pénalise davantage les grandes erreurs car il élève au carré la différence entre les prédictions et les valeurs réelles. Ici, le MSE est relativement élevé (en raison des unités au carré), mais il est utile pour détecter des erreurs importantes.\n",
    "RMSE (Root Mean Squared Error) : 101,202.66\n",
    "\n",
    "Le RMSE est simplement la racine carrée du MSE, et il exprime l'erreur en unités originales (comme le MAE). \n",
    "Dans notre cas, cela signifie que l'erreur quadratique moyenne de notre modèle est d'environ 101,202.66 unités. \n",
    "C'est une métrique souvent utilisée pour interpréter la performance du modèle en termes plus compréhensibles."
   ]
  },
  {
   "cell_type": "markdown",
   "id": "05d72bbb-0812-4998-bd5f-9f9a46074800",
   "metadata": {},
   "source": [
    "### Objectif avoir un R²_Score prés de 1"
   ]
  },
  {
   "cell_type": "code",
   "execution_count": null,
   "id": "3df9702c-d6c1-42db-b741-8c6fa43c922b",
   "metadata": {},
   "outputs": [],
   "source": [
    "print('R²:', metrics.r2_score (y_test, y_predict))"
   ]
  },
  {
   "cell_type": "markdown",
   "id": "515304f1-33e9-45bb-9fe4-02407d146a14",
   "metadata": {},
   "source": [
    "R² (Coefficient de détermination) : 0.9179\n",
    "mesure la proportion de la variance dans la variable dépendante (dans ce cas, les prix des maisons) qui est prévisible à partir des variables indépendantes (les caractéristiques des maisons).\n",
    "Une valeur de R² de 0.9179 signifie que 91.79 % de la variance des prix des maisons peut être expliquée par le modèle.\n",
    "Cela indique une très bonne performance du modèle. \n",
    "En général :\n",
    "Un R² proche de 1 suggère que le modèle explique presque toute la variance des données.\n",
    "Un R² proche de 0 indiquerait que le modèle n'explique pratiquement aucune variance."
   ]
  },
  {
   "cell_type": "markdown",
   "id": "d2933239-7677-45b5-b457-884ab2899fe0",
   "metadata": {},
   "source": [
    "### Voyant le R² ajusté"
   ]
  },
  {
   "cell_type": "code",
   "execution_count": null,
   "id": "795cc3dc-498c-4b0d-84b8-605cd40b9a14",
   "metadata": {},
   "outputs": [],
   "source": [
    "# Calculer R² ajusté\n",
    "n = len(y_test)  # Nombre d'observations\n",
    "p = X_test.shape[1]  # Nombre de prédicteurs\n",
    "r2 = metrics.r2_score(y_test, y_predict)\n",
    "r2_adjusted = 1 - (1 - r2) * (n - 1) / (n - p - 1)\n",
    "print(\"R² ajusté:\", r2_adjusted)"
   ]
  },
  {
   "cell_type": "markdown",
   "id": "92b10de0-f6d4-4b64-a3fa-d9ec9fb5e6f1",
   "metadata": {},
   "source": [
    "##### Ces résultats montrent un modèle robuste et bien ajusté, suggérant que les variables choisies capturent bien les variations de la variable cible."
   ]
  },
  {
   "cell_type": "markdown",
   "id": "0f459281-e602-443c-9c43-f8776c2b6bbe",
   "metadata": {},
   "source": [
    "##### Le fait qu'il soit très proche de R² (0.9144 contre 0.9147) indique que les variables incluses dans le modèle sont probablement pertinentes et qu’il n’y a pas d'overfitting important."
   ]
  },
  {
   "cell_type": "markdown",
   "id": "87e553db-e6a6-4484-b605-435f0c8a08d0",
   "metadata": {},
   "source": [
    "## **Classification avec Matrice de Confusion**"
   ]
  },
  {
   "cell_type": "markdown",
   "id": "d3acb4ca-e759-45bd-96d5-70a143de27f5",
   "metadata": {},
   "source": [
    "##### Préparer les données"
   ]
  },
  {
   "cell_type": "code",
   "execution_count": null,
   "id": "ef383580-8b65-4ee7-b86a-2a0de296af27",
   "metadata": {},
   "outputs": [],
   "source": [
    "data_cleaned_imputed['Price_Category'] = pd.qcut(data_cleaned_imputed['Price'], q=3, labels=['Low', 'Medium', 'High'])\n"
   ]
  },
  {
   "cell_type": "code",
   "execution_count": null,
   "id": "72794c46-05da-4a43-abe4-b5b17d7c7baa",
   "metadata": {},
   "outputs": [],
   "source": [
    "# Préparation des données pour la matrice de confusion\n",
    "y_true_categories = data_cleaned_imputed.loc[X_test.index, 'Price_Category']  # Catégories réelles\n",
    "y_pred_categories = pd.qcut(y_predict, q=3, labels=['Low', 'Medium', 'High'])  # Catégories prédites\n"
   ]
  },
  {
   "cell_type": "code",
   "execution_count": null,
   "id": "f3609e00-e279-490b-b547-c8dc4895f486",
   "metadata": {},
   "outputs": [],
   "source": [
    "# Assuming y_true_categories and y_pred_categories are defined correctly\n",
    "cm = confusion_matrix(y_true_categories, y_pred_categories, labels=['Low', 'Medium', 'High'])\n"
   ]
  },
  {
   "cell_type": "markdown",
   "id": "ed88ac0c-74e0-40d7-84b3-d3a1f063d418",
   "metadata": {},
   "source": [
    "##### Affichage de la matrice de confusion"
   ]
  },
  {
   "cell_type": "code",
   "execution_count": null,
   "id": "5107b083-db08-4080-a782-b44196f33de5",
   "metadata": {},
   "outputs": [],
   "source": [
    "# Affichage de la matrice de confusion\n",
    "disp = ConfusionMatrixDisplay(confusion_matrix=cm, display_labels=['Low', 'Medium', 'High'])\n",
    "disp.plot(cmap='Blues')\n",
    "plt.title('Matrice de Confusion')\n",
    "plt.show()"
   ]
  },
  {
   "cell_type": "markdown",
   "id": "c378ed6d-d593-45ea-b0c9-22e1d92027b9",
   "metadata": {},
   "source": [
    "#### Ordinary Least Squares"
   ]
  },
  {
   "cell_type": "code",
   "execution_count": null,
   "id": "0538b687-a69d-4a7f-b8f6-245ef085c01d",
   "metadata": {},
   "outputs": [],
   "source": [
    "# Implémentation de la régression OLS\n",
    "# Ajouter une constante pour l'intercept\n",
    "X_ols = sm.add_constant(X)  # X avec une constante\n",
    "model_ols = sm.OLS(y, X_ols).fit()  # Ajuster le modèle OLS\n",
    "print(model_ols.summary())  # Afficher le résumé du modèle"
   ]
  },
  {
   "cell_type": "markdown",
   "id": "fefbcb10-fd3b-4b7f-8474-24ced1a864e6",
   "metadata": {},
   "source": [
    "## Application de Adaptive Decision Tree ADD"
   ]
  },
  {
   "cell_type": "markdown",
   "id": "77f65b47-3205-4972-b745-170971ef93e0",
   "metadata": {},
   "source": [
    "# Prétraitement des Données"
   ]
  },
  {
   "cell_type": "code",
   "execution_count": null,
   "id": "93434192-b9df-4105-af85-387d0a15e7d6",
   "metadata": {},
   "outputs": [],
   "source": [
    "# Vérifier les colonnes et types de données\n",
    "print(\"Colonnes originales :\")\n",
    "print(data_cleaned_imputed.columns)\n",
    "print(\"\\nTypes de données :\")\n",
    "print(data_cleaned_imputed.dtypes)"
   ]
  },
  {
   "cell_type": "code",
   "execution_count": null,
   "id": "92080489-f14b-40e0-a90f-6fff5a5feb8d",
   "metadata": {},
   "outputs": [],
   "source": [
    "# Renommer les colonnes pour éviter les espaces\n",
    "data_cleaned_imputed.columns = [col.replace(' ', '_') for col in data_cleaned_imputed.columns]"
   ]
  },
  {
   "cell_type": "code",
   "execution_count": null,
   "id": "24c3da38-fb61-477d-8f9e-340a0578008d",
   "metadata": {},
   "outputs": [],
   "source": [
    "# Supprimer les colonnes non numériques\n",
    "data_cleaned_numeric = data_cleaned_imputed.select_dtypes(include=['int64', 'float64'])\n",
    "print(\"\\nColonnes numériques :\")\n",
    "print(data_cleaned_numeric.columns)"
   ]
  },
  {
   "cell_type": "code",
   "execution_count": null,
   "id": "b342843b-0480-4165-a394-40d2b3520fdf",
   "metadata": {},
   "outputs": [],
   "source": [
    "# Définir les variables indépendantes (X) et la variable dépendante (y)\n",
    "X = data_cleaned_numeric.drop(columns=['Price'])  # Toutes les colonnes sauf 'Price'\n",
    "y = data_cleaned_numeric['Price']  # La colonne 'Price'\n",
    "\n",
    "# Diviser les données en ensembles d'entraînement et de test\n",
    "X_train, X_test, y_train, y_test = train_test_split(X, y, test_size=0.2, random_state=42)  # test_size est maintenant correctement spécifié"
   ]
  },
  {
   "cell_type": "code",
   "execution_count": null,
   "id": "cfb3db3f-0554-498e-81db-adbc07132ca2",
   "metadata": {},
   "outputs": [],
   "source": [
    "# Créer et entraîner le modèle de régression\n",
    "regressor = DecisionTreeRegressor(random_state=42)\n",
    "regressor.fit(X_train, y_train)"
   ]
  },
  {
   "cell_type": "code",
   "execution_count": null,
   "id": "e6e22f6a-64ba-44a3-a924-e6b85e578568",
   "metadata": {},
   "outputs": [],
   "source": [
    "# Faire des prédictions et évaluer le modèle\n",
    "y_pred = regressor.predict(X_test)\n",
    "mse = mean_squared_error(y_test, y_pred)\n",
    "r2 = r2_score(y_test, y_pred)"
   ]
  },
  {
   "cell_type": "code",
   "execution_count": null,
   "id": "833a562a-d56b-4af7-b28c-a52732d3d5af",
   "metadata": {},
   "outputs": [],
   "source": [
    "# Calculer le R² ajusté\n",
    "n = X_test.shape[0]  # Nombre d'observations\n",
    "p = X_test.shape[1]  # Nombre de variables indépendantes\n",
    "r2_adjusted = 1 - (1 - r2) * (n - 1) / (n - p - 1)"
   ]
  },
  {
   "cell_type": "code",
   "execution_count": null,
   "id": "d8e1b63a-79ec-4a0f-91aa-e384a85c7b9d",
   "metadata": {},
   "outputs": [],
   "source": [
    "# Afficher les résultats\n",
    "print(f'\\nMean Squared Error: {mse:.2f}')\n",
    "print(f'R-squared: {r2:.2f}')\n",
    "print(f'Adjusted R-squared: {r2_adjusted:.2f}')"
   ]
  },
  {
   "cell_type": "markdown",
   "id": "c893e647-aa47-4877-95c4-3a98b0603fec",
   "metadata": {},
   "source": [
    "#### Une précision de 74% de notre modèle d'Arbre de Décision (ADD) dans la prédiction des prédictions des prix des maisons est un résultat acceptable cela signifie que les prédictions faites par le modèle sont correctes par rapport à l'ensemble de test. "
   ]
  },
  {
   "cell_type": "markdown",
   "id": "82723724-0839-4697-9860-73ab46774b33",
   "metadata": {},
   "source": [
    "#### Diagramme de Dispersion"
   ]
  },
  {
   "cell_type": "code",
   "execution_count": null,
   "id": "5cc05df9-fc7b-4d70-bbd5-fb15cd2df90f",
   "metadata": {},
   "outputs": [],
   "source": [
    "plt.scatter(y_test, y_pred, alpha=0.5)\n",
    "plt.xlabel('Valeurs Réelles')\n",
    "plt.ylabel('Valeurs Prédites')\n",
    "plt.title('Valeurs Réelles vs Valeurs Prédites')\n",
    "plt.plot([y_test.min(), y_test.max()], [y_test.min(), y_test.max()], 'k--', lw=2)  # ligne d'égalité\n",
    "plt.show()"
   ]
  },
  {
   "cell_type": "markdown",
   "id": "2573fca0-07fb-4d25-a42d-c5c03c527582",
   "metadata": {},
   "source": [
    "#### Histogramme des Résidus"
   ]
  },
  {
   "cell_type": "code",
   "execution_count": null,
   "id": "4709e29c-b709-432f-a2da-c2b44bd353bb",
   "metadata": {},
   "outputs": [],
   "source": [
    "residuals = y_test - y_pred\n",
    "plt.hist(residuals, bins=30)\n",
    "plt.xlabel('Résidus')\n",
    "plt.ylabel('Fréquence')\n",
    "plt.title('Histogramme des Résidus')\n",
    "plt.show()"
   ]
  },
  {
   "cell_type": "markdown",
   "id": "efc21eeb-0db4-4385-9eb8-26fd7404082c",
   "metadata": {},
   "source": [
    "#### Graphique des Erreurs"
   ]
  },
  {
   "cell_type": "code",
   "execution_count": null,
   "id": "d847ec24-d2ad-485d-a452-2bea9e9c959c",
   "metadata": {},
   "outputs": [],
   "source": [
    "plt.scatter(y_test, residuals)\n",
    "plt.axhline(y=0, color='r', linestyle='--')\n",
    "plt.xlabel('Valeurs Réelles')\n",
    "plt.ylabel('Résidus')\n",
    "plt.title('Résidus vs Valeurs Réelles')\n",
    "plt.show()"
   ]
  },
  {
   "cell_type": "markdown",
   "id": "7e41317c-7585-41a2-8e9e-d80b7c26c2d0",
   "metadata": {},
   "source": [
    "### Exactitude (Accuracy) : 0.021\n",
    "L'exactitude de 0.021 indique que le modèle a correctement prédit environ 2,1 % des cas.\n",
    "### Moyenne Macro (Macro Avg) :\n",
    "Précision : 0.00 (Précision de chaque classe considérée individuellement, sans tenir compte du déséquilibre des classes)\n",
    "Rappel : 0.01 (Proportion de vrais positifs sur le total des vrais positifs + faux négatifs)\n",
    "F1-Score : 0.00 (Moyenne harmonique entre précision et rappel)\n",
    "### Moyenne Pondérée (Weighted Avg) :\n",
    "Précision : 0.00, Rappel : 0.02, F1-Score : 0.00"
   ]
  },
  {
   "cell_type": "markdown",
   "id": "c61a50b2-68b0-46d7-ac6a-30fd15f9940e",
   "metadata": {},
   "source": [
    "# Modèle de Classification par Etat"
   ]
  },
  {
   "cell_type": "code",
   "execution_count": null,
   "id": "4424e7bb-8a5d-4a7f-92b0-4c87053fab54",
   "metadata": {},
   "outputs": [],
   "source": [
    "import re\n",
    "# Function to extract state abbreviation from the Address column\n",
    "def extract_state(address):\n",
    "    # Regular expression to match two uppercase letters, optionally followed by a space and zip code\n",
    "    match = re.search(r'\\b[A-Z]{2}\\b', str(address))\n",
    "    return match.group(0) if match else None\n",
    "\n",
    "# Apply the function to create the 'State' column\n",
    "data_cleaned_imputed['State'] = data_cleaned_imputed['Address'].apply(extract_state)\n",
    "\n",
    "state_names = {\n",
    "    \"AL\": \"Alabama\", \"AK\": \"Alaska\", \"AZ\": \"Arizona\", \"AR\": \"Arkansas\",\n",
    "    \"AS\": \"American Samoa\",\n",
    "    \"CA\": \"California\", \"CO\": \"Colorado\", \"CT\": \"Connecticut\", \"DE\": \"Delaware\",\n",
    "    \"FL\": \"Florida\", \"GA\": \"Georgia\", \"HI\": \"Hawaii\", \"ID\": \"Idaho\",\n",
    "    \"IL\": \"Illinois\", \"IN\": \"Indiana\", \"IA\": \"Iowa\", \"KS\": \"Kansas\",\n",
    "    \"KY\": \"Kentucky\", \"LA\": \"Louisiana\", \"ME\": \"Maine\", \"MD\": \"Maryland\",\n",
    "    \"MA\": \"Massachusetts\", \"MI\": \"Michigan\", \"MN\": \"Minnesota\", \"MS\": \"Mississippi\",\n",
    "    \"MO\": \"Missouri\", \"MT\": \"Montana\", \"NE\": \"Nebraska\", \"NV\": \"Nevada\",\n",
    "    \"NH\": \"New Hampshire\", \"NJ\": \"New Jersey\", \"NM\": \"New Mexico\", \"NY\": \"New York\",\n",
    "    \"MH\": \"Marshall Islands\",\n",
    "    \"NC\": \"North Carolina\", \"ND\": \"North Dakota\", \"OH\": \"Ohio\", \"OK\": \"Oklahoma\",\n",
    "    \"OR\": \"Oregon\", \"PA\": \"Pennsylvania\", \"RI\": \"Rhode Island\", \"SC\": \"South Carolina\",\n",
    "    \"PW\": \"Palau\",\n",
    "    \"MP\": \"Northern Mariana Islands\",\n",
    "    \"VI\": \"Virgin Islands\",\n",
    "    \"PR\": \"Puerto Rico\",\n",
    "    \"GU\": \"Guam\",\n",
    "    \"FM\": \"Federated States of Micronesia\",\n",
    "    \"SD\": \"South Dakota\", \"TN\": \"Tennessee\", \"TX\": \"Texas\", \"UT\": \"Utah\",\n",
    "    \"VT\": \"Vermont\", \"VA\": \"Virginia\", \"WA\": \"Washington\", \"WV\": \"West Virginia\",\n",
    "    \"WI\": \"Wisconsin\", \"WY\": \"Wyoming\", \"DC\": \"District of Columbia\", \"AP\": \"Armed Forces Pacific\",\n",
    "    \"AE\": \"Armed Forces Europe\", \"AA\": \"Armed Forces Americas\"\n",
    "}\n",
    "\n",
    "# Map state abbreviations to full names in a new column 'State Full Name'\n",
    "data_cleaned_imputed['State Full Name'] = data_cleaned_imputed['State'].map(state_names)\n",
    "\n",
    "output_path = 'USA_Housing_with_State_v3.csv'  # Choose a unique name for the new file\n",
    "data.to_csv(output_path, index=False)\n",
    "data = data_cleaned_imputed\n",
    "\n",
    "output_path"
   ]
  },
  {
   "cell_type": "code",
   "execution_count": null,
   "id": "fcb0bdcf-c30d-4625-b2ae-424975bbbfa6",
   "metadata": {},
   "outputs": [],
   "source": [
    "# Définir X et y pour la classification\n",
    "X = data.drop(columns=['State', 'State Full Name', 'Address', 'Price'])  # enlevez les colonnes non nécessaires\n",
    "y = data['State']  # variable cible"
   ]
  },
  {
   "cell_type": "code",
   "execution_count": null,
   "id": "8592cfa9-c6e7-4cb8-8772-021c6527389a",
   "metadata": {},
   "outputs": [],
   "source": [
    "# Séparer les données en ensembles d'entraînement et de test\n",
    "X_train, X_test, y_train, y_test = train_test_split(X, y, test_size=0.2, random_state=42)"
   ]
  },
  {
   "cell_type": "code",
   "execution_count": null,
   "id": "67a7a0ea-5ba4-4bb7-9d3c-8062521d8f17",
   "metadata": {},
   "outputs": [],
   "source": [
    "# Sur-échantillonnage (si déséquilibre)\n",
    "smote = SMOTE(random_state=42)\n",
    "X_train_res, y_train_res = smote.fit_resample(X_train, y_train)\n",
    "print (y_train_res)"
   ]
  },
  {
   "cell_type": "code",
   "execution_count": null,
   "id": "507b1a5a-0e9c-4a95-8de2-fae3be470516",
   "metadata": {},
   "outputs": [],
   "source": [
    "# Initialiser le modèle Random Forest\n",
    "model = RandomForestClassifier(random_state=42)"
   ]
  },
  {
   "cell_type": "code",
   "execution_count": null,
   "id": "7b788197-7b09-4538-814b-1f8a351e1c8a",
   "metadata": {},
   "outputs": [],
   "source": [
    "# Entraîner le modèle\n",
    "model.fit(X_train_res, y_train_res)"
   ]
  },
  {
   "cell_type": "code",
   "execution_count": null,
   "id": "332cdff0-203b-4267-bd1e-fe900e3542da",
   "metadata": {},
   "outputs": [],
   "source": [
    "# Faire des prédictions\n",
    "y_pred = model.predict(X_test)"
   ]
  },
  {
   "cell_type": "code",
   "execution_count": null,
   "id": "d56c4141-18c5-43b1-8c7b-3dd4fcd35f49",
   "metadata": {},
   "outputs": [],
   "source": [
    "# Évaluer le modèle\n",
    "print(\"Accuracy:\", accuracy_score(y_test, y_pred))\n",
    "print(\"Classification Report:\\n\", classification_report(y_test, y_pred))"
   ]
  },
  {
   "cell_type": "markdown",
   "id": "f8e788d2-3ef3-4711-9431-ed7f7bf5143d",
   "metadata": {},
   "source": [
    "#### Performance très faible représenter par une prédiction très faible 1.1%."
   ]
  },
  {
   "cell_type": "markdown",
   "id": "ee3356c0-5f28-4a9d-91f5-9fa16b0bc371",
   "metadata": {},
   "source": [
    "### Quelque métriques:"
   ]
  },
  {
   "cell_type": "code",
   "execution_count": null,
   "id": "9ddf959f-bc40-4ba3-a203-2c2840f3f1ea",
   "metadata": {},
   "outputs": [],
   "source": [
    "# Remplacez par votre modèle\n",
    "classifier = RandomForestClassifier()\n",
    "classifier.fit(X_train, y_train)\n",
    "\n",
    "# Prédictions sur l'ensemble de test\n",
    "y_pred = classifier.predict(X_test)\n",
    "\n",
    "# Affichage des métriques\n",
    "print(\"Métriques de performance du modèle de classification :\")\n",
    "print(f'Exactitude : {accuracy_score(y_test, y_pred)}')\n",
    "\n",
    "# Matrice de confusion\n",
    "cm = confusion_matrix(y_test, y_pred)\n",
    "print(\"Matrice de confusion :\")\n",
    "print(cm)\n",
    "\n",
    "# Affichage de la matrice de confusion\n",
    "disp = ConfusionMatrixDisplay(confusion_matrix=cm)\n",
    "disp.plot()\n",
    "plt.show()\n",
    "\n",
    "# Affichage du rapport de classification\n",
    "print(classification_report(y_test, y_pred, zero_division=0))\n",
    "\n",
    "# Vérifiez les classes dans y_test\n",
    "unique_classes = np.unique(y_test)\n",
    "print(\"Classes dans y_test :\", unique_classes)\n",
    "\n",
    "if len(unique_classes) < 2:\n",
    "    print(\"AUC ne peut pas être calculé car il n'y a qu'une seule classe dans y_test.\")\n",
    "else:\n",
    "    # Binarisation des labels pour AUC\n",
    "    y_test_binarized = label_binarize(y_test, classes=unique_classes)\n",
    "\n",
    "    # Prédictions de probabilité\n",
    "    y_proba = classifier.predict_proba(X_test)\n",
    "\n",
    "    # Calculer le score AUC pour chaque classe\n",
    "    roc_auc = roc_auc_score(y_test_binarized, y_proba, average='macro', multi_class='ovr')\n",
    "    print(f'AUC: {roc_auc}')"
   ]
  },
  {
   "cell_type": "markdown",
   "id": "bc8ef968-b9da-4686-b6b9-d4e978be30af",
   "metadata": {},
   "source": [
    "#### Exactitude (Accuracy) :\n",
    "L'exactitude est de 0.02, ce qui signifie que le modèle a correctement prédit seulement 2% des échantillons testés. \n",
    "#### Moyenne Macro : \n",
    "Les valeurs de 0.02 pour la précision, le rappel et la F1-mesure indiquent que le modèle a une performance très faible sur toutes les classes.\n",
    "#### Moyenne Pondérée :  \n",
    "Les mêmes valeurs que la moyenne macro sont également observées ici, ce qui est inhabituel.\n",
    "#### AUC (Area Under the Curve) :\n",
    "La valeur AUC de 0.494 est proche de 0.5, ce qui indique que le modèle ne parvient pas à distinguer les classes de manière significative"
   ]
  },
  {
   "cell_type": "markdown",
   "id": "940203e2-3563-46f3-ac15-98c81298687e",
   "metadata": {},
   "source": [
    "# Modèle de Classification par Etat SVM : Support Vector Machine"
   ]
  },
  {
   "cell_type": "code",
   "execution_count": null,
   "id": "16b671fb-aae7-4982-b186-4263e44ed9db",
   "metadata": {},
   "outputs": [],
   "source": [
    "# Définir X et y pour la classification\n",
    "X = data_cleaned_imputed.drop(columns=['State', 'State Full Name', 'Address', 'Price'])  # enlevez les colonnes non nécessaires\n",
    "y = data_cleaned_imputed['State']  # variable cible"
   ]
  },
  {
   "cell_type": "code",
   "execution_count": null,
   "id": "67f1447e-2dcf-417a-aa0d-3e643feefd65",
   "metadata": {},
   "outputs": [],
   "source": [
    "# Appliquer SMOTE pour équilibrer les classes\n",
    "smote = SMOTE(random_state=42)\n",
    "X_resampled, y_resampled = smote.fit_resample(X, y)"
   ]
  },
  {
   "cell_type": "code",
   "execution_count": null,
   "id": "17b967b1-f5d3-4687-a8ee-cd1058a9fbaa",
   "metadata": {},
   "outputs": [],
   "source": [
    "# Vérifiez les formes et les valeurs nulles\n",
    "print(f'X_resampled shape: {X_resampled.shape}')\n",
    "print(f'y_resampled shape: {y_resampled.shape}')\n",
    "print(X_resampled.isnull().sum())\n",
    "print(y_resampled.isnull().sum())"
   ]
  },
  {
   "cell_type": "code",
   "execution_count": null,
   "id": "982f68b6-3557-4429-908f-e4145030ce07",
   "metadata": {},
   "outputs": [],
   "source": [
    "# Test de séparation sans le reste du code\n",
    "X_train, X_test, y_train, y_test = train_test_split(X_resampled, y_resampled, test_size=0.2, random_state=42)\n",
    "print(f'X_train shape: {X_train.shape}, X_test shape: {X_test.shape}')\n"
   ]
  },
  {
   "cell_type": "code",
   "execution_count": null,
   "id": "468ed8ce-d3b5-4165-847c-5a5146c95c25",
   "metadata": {},
   "outputs": [],
   "source": [
    "# Entraîner le modèle SVM\n",
    "\n",
    "svm_model = SVC(kernel='linear', random_state=42) # Vous pouvez changer le kernel si nécessaire\n",
    "from sklearn.preprocessing import StandardScaler\n",
    "\n",
    "sc = StandardScaler()\n",
    "\n",
    "X_train = sc.fit_transform(X_train)\n",
    "X_test = sc.transform(X_test)\n",
    "svm_model.fit(X_train, y_train)\n"
   ]
  },
  {
   "cell_type": "code",
   "execution_count": null,
   "id": "a39461b8-5aca-4db1-a73d-ada03b1c742e",
   "metadata": {},
   "outputs": [],
   "source": [
    "# Faire des prédictions\n",
    "y_pred = svm_model.predict(X_test)"
   ]
  },
  {
   "cell_type": "code",
   "execution_count": null,
   "id": "b0f237be-e692-4929-9989-6bf1851f7a67",
   "metadata": {},
   "outputs": [],
   "source": [
    "# Évaluer le modèle\n",
    "accuracy = accuracy_score(y_test, y_pred)\n",
    "print(f'Accuracy: {accuracy:.3f}')"
   ]
  },
  {
   "cell_type": "code",
   "execution_count": null,
   "id": "f2946b5f-bf43-4688-bfc5-971048e7123e",
   "metadata": {},
   "outputs": [],
   "source": [
    "# print(\"Classification Report:\")\n",
    "# print(classification_report(y_test, y_pred))"
   ]
  },
  {
   "cell_type": "code",
   "execution_count": null,
   "id": "2e9731a8-8ff8-464e-a35a-e8853f54574f",
   "metadata": {},
   "outputs": [],
   "source": [
    "from sklearn.metrics import classification_report\n",
    "\n",
    "print(classification_report(y_test, y_pred, zero_division=1))"
   ]
  },
  {
   "cell_type": "code",
   "execution_count": null,
   "id": "672bbbeb-3674-4464-89af-6588a807895f",
   "metadata": {},
   "outputs": [],
   "source": [
    "# Calculer la moyenne des prix par état\n",
    "average_price_per_state = data_cleaned_imputed.groupby('State Full Name')['Price'].mean().reset_index()\n",
    "\n",
    "# Renommer la colonne pour plus de clarté\n",
    "average_price_per_state.columns = ['State', 'Average Price']\n",
    "\n",
    "# Afficher le résultat\n",
    "print(average_price_per_state)\n"
   ]
  },
  {
   "cell_type": "code",
   "execution_count": null,
   "id": "0345ee22-ebbc-48ef-aff0-6a7a8ec0d51d",
   "metadata": {},
   "outputs": [],
   "source": [
    "# Calculer la moyenne des colonnes spécifiées par état\n",
    "average_data_per_state = data_cleaned_imputed.groupby('State Full Name').agg({\n",
    "    'Avg. Area Income': 'mean',\n",
    "    'Avg. Area House Age': 'mean',\n",
    "    'Avg. Area Number of Rooms': 'mean',\n",
    "    'Avg. Area Number of Bedrooms': 'mean',\n",
    "    'Area Population': 'mean',\n",
    "    'Price': 'mean'\n",
    "}).reset_index()\n",
    "\n",
    "# Renommer les colonnes pour plus de clarté\n",
    "average_data_per_state.columns = ['State', 'Average Area Income', \n",
    "                                   'Average Area House Age', \n",
    "                                   'Average Number of Rooms', \n",
    "                                   'Average Number of Bedrooms', \n",
    "                                   'Average Population', \n",
    "                                   'Average Price']\n",
    "\n",
    "# Afficher le résultat\n",
    "print(average_data_per_state)\n",
    "\n",
    "# Enregistrer la nouvelle base de données dans un fichier CSV\n",
    "output_path = 'Average_Data_Per_State.csv'\n",
    "average_data_per_state.to_csv(output_path, index=False)"
   ]
  },
  {
   "cell_type": "code",
   "execution_count": null,
   "id": "4e289952-e3ca-4fd5-aaca-181199ebbbd4",
   "metadata": {},
   "outputs": [],
   "source": [
    "# Définir X et y pour la classification\n",
    "X = data_cleaned_imputed.drop(columns=['State', 'State Full Name', 'Address', 'Price'])  # enlevez les colonnes non nécessaires\n",
    "y = data_cleaned_imputed['State']  # variable cible"
   ]
  },
  {
   "cell_type": "code",
   "execution_count": null,
   "id": "4600dfd3-0915-45b4-bb06-5670d8d20385",
   "metadata": {},
   "outputs": [],
   "source": [
    "# Appliquer SMOTE pour équilibrer les classes\n",
    "smote = SMOTE(random_state=42)\n",
    "X_resampled, y_resampled = smote.fit_resample(X, y)\n"
   ]
  },
  {
   "cell_type": "code",
   "execution_count": null,
   "id": "3f12207d-b540-4a30-99cb-fa092d0eeb18",
   "metadata": {},
   "outputs": [],
   "source": [
    "# Vérifiez les formes et les valeurs nulles\n",
    "print(f'X_resampled shape: {X_resampled.shape}')\n",
    "print(f'y_resampled shape: {y_resampled.shape}')\n",
    "print(X_resampled.isnull().sum())\n",
    "print(y_resampled.isnull().sum())"
   ]
  },
  {
   "cell_type": "code",
   "execution_count": null,
   "id": "adebb052-ec04-4d6c-8774-bd2b8c7460bf",
   "metadata": {},
   "outputs": [],
   "source": [
    "# Test de séparation sans le reste du code\n",
    "X_train, X_test, y_train, y_test = train_test_split(X_resampled, y_resampled, test_size=0.2, random_state=42)\n",
    "print(f'X_train shape: {X_train.shape}, X_test shape: {X_test.shape}')\n"
   ]
  },
  {
   "cell_type": "code",
   "execution_count": null,
   "id": "4b059895-7dc5-4288-88eb-8bba23391d7b",
   "metadata": {},
   "outputs": [],
   "source": [
    "# Entraîner le modèle SVM\n",
    "\n",
    "svm_model = SVC(kernel='linear', random_state=42) # Vous pouvez changer le kernel si nécessaire\n",
    "from sklearn.preprocessing import StandardScaler\n",
    "\n",
    "sc = StandardScaler()\n",
    "\n",
    "X_train = sc.fit_transform(X_train)\n",
    "X_test = sc.transform(X_test)\n",
    "svm_model.fit(X_train, y_train)"
   ]
  },
  {
   "cell_type": "code",
   "execution_count": null,
   "id": "dfd8e542-8e6b-4f80-bbf2-2cf8757594aa",
   "metadata": {},
   "outputs": [],
   "source": [
    "# Faire des prédictions\n",
    "y_pred = svm_model.predict(X_test)"
   ]
  },
  {
   "cell_type": "code",
   "execution_count": null,
   "id": "842fc504-b2a9-4fab-b82f-e7ee84d801d8",
   "metadata": {},
   "outputs": [],
   "source": [
    "# Évaluer le modèle\n",
    "accuracy = accuracy_score(y_test, y_pred)\n",
    "print(f'Accuracy: {accuracy:.3f}')"
   ]
  },
  {
   "cell_type": "markdown",
   "id": "bde23ca4-5a9d-4687-a0f9-0cecb661f16a",
   "metadata": {},
   "source": [
    "#### Une précision de 2,5 % est très faible et indique que votre modèle ne fonctionne pas bien"
   ]
  },
  {
   "cell_type": "markdown",
   "id": "de38a5b6-d66e-4101-b581-1d6ff0f8a139",
   "metadata": {},
   "source": [
    "### Quelque métriques:"
   ]
  },
  {
   "cell_type": "code",
   "execution_count": null,
   "id": "50e0c83d-dc63-4e27-bd45-080880e4a89f",
   "metadata": {},
   "outputs": [],
   "source": [
    "# Supposons que vous avez déjà vos données chargées dans X et y\n",
    "# X = vos données d'entrée\n",
    "# y = vos labels\n",
    "\n",
    "# Division des données en ensembles d'entraînement et de test\n",
    "X_train, X_test, y_train, y_test = train_test_split(X, y, test_size=0.3, random_state=42)\n",
    "\n",
    "# Création et entraînement du modèle SVM\n",
    "svm_model = svm.SVC(probability=True)  # Assurez-vous que probability=True\n",
    "svm_model.fit(X_train, y_train)\n",
    "\n",
    "# Prédictions sur l'ensemble de test\n",
    "y_pred = svm_model.predict(X_test)\n",
    "\n",
    "# Affichage du rapport de classification\n",
    "print(classification_report(y_test, y_pred, zero_division=0))\n",
    "\n",
    "# Vérifiez les classes dans y_test\n",
    "unique_classes = np.unique(y_test)\n",
    "print(\"Classes dans y_test :\", unique_classes)\n",
    "\n",
    "if len(unique_classes) < 2:\n",
    "    print(\"AUC ne peut pas être calculé car il n'y a qu'une seule classe dans y_test.\")\n",
    "else:\n",
    "    # Binarisation des labels pour AUC\n",
    "    y_test_binarized = label_binarize(y_test, classes=unique_classes)\n",
    "\n",
    "    # Prédictions de probabilité\n",
    "    y_proba = svm_model.predict_proba(X_test)\n",
    "\n",
    "    # Calculer le score AUC pour chaque classe\n",
    "    roc_auc = roc_auc_score(y_test_binarized, y_proba, average='macro', multi_class='ovr')\n",
    "    print(f'AUC: {roc_auc}')\n",
    "\n",
    "# Calcul de la matrice de confusion\n",
    "cm = confusion_matrix(y_test, y_pred, labels=unique_classes)\n",
    "\n",
    "# Affichage de la matrice de confusion\n",
    "disp = ConfusionMatrixDisplay(confusion_matrix=cm, display_labels=unique_classes)\n",
    "disp.plot(cmap=plt.cm.Blues)  # Utilisez un colormap pour une meilleure visibilité\n",
    "plt.title('Matrice de Confusion')\n",
    "plt.show()"
   ]
  },
  {
   "cell_type": "markdown",
   "id": "f5b05f3a-14ff-4b71-b263-a17d45b6b661",
   "metadata": {},
   "source": [
    "#### Exactitude (Accuracy) :\n",
    "0.02 : Cela signifie que le modèle a correctement prédit 2 % des échantillons testés.\n",
    "#### Moyenne Macro : \n",
    "Les valeurs pour la précision, le rappel et la F1-mesure sont très faibles, avec un score de 0.00 pour la précision et la F1-mesure, et 0.01 pour le rappel. \n",
    "#### Moyenne Pondérée : \n",
    "Les résultats ici montrent également des valeurs proches de zéro.\n",
    "#### AUC (Area Under the Curve) :\n",
    "L'AUC de 0.511 est légèrement au-dessus de 0.5, ce qui indique que le modèle a une capacité de discrimination très limitée, proche du tirage aléatoire."
   ]
  }
 ],
 "metadata": {
  "kernelspec": {
   "display_name": "Python 3 (ipykernel)",
   "language": "python",
   "name": "python3"
  },
  "language_info": {
   "codemirror_mode": {
    "name": "ipython",
    "version": 3
   },
   "file_extension": ".py",
   "mimetype": "text/x-python",
   "name": "python",
   "nbconvert_exporter": "python",
   "pygments_lexer": "ipython3",
   "version": "3.12.2"
  }
 },
 "nbformat": 4,
 "nbformat_minor": 5
}
